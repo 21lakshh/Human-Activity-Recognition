{
  "cells": [
    {
      "cell_type": "code",
      "execution_count": 3,
      "metadata": {
        "colab": {
          "base_uri": "https://localhost:8080/"
        },
        "id": "lP_irB7QusZ3",
        "outputId": "270d7cf3-2a4a-4db9-c1e3-9e5927513d5e"
      },
      "outputs": [
        {
          "output_type": "stream",
          "name": "stdout",
          "text": [
            "Collecting tsfel\n",
            "  Downloading tsfel-0.1.9-py3-none-any.whl.metadata (9.3 kB)\n",
            "Requirement already satisfied: ipython>=7.4.0 in /usr/local/lib/python3.11/dist-packages (from tsfel) (7.34.0)\n",
            "Requirement already satisfied: numpy>=1.18.5 in /usr/local/lib/python3.11/dist-packages (from tsfel) (1.26.4)\n",
            "Requirement already satisfied: pandas>=1.5.3 in /usr/local/lib/python3.11/dist-packages (from tsfel) (2.2.2)\n",
            "Collecting PyWavelets>=1.4.1 (from tsfel)\n",
            "  Downloading pywavelets-1.8.0-cp311-cp311-manylinux_2_17_x86_64.manylinux2014_x86_64.whl.metadata (9.0 kB)\n",
            "Requirement already satisfied: requests>=2.31.0 in /usr/local/lib/python3.11/dist-packages (from tsfel) (2.32.3)\n",
            "Requirement already satisfied: scikit-learn>=0.21.3 in /usr/local/lib/python3.11/dist-packages (from tsfel) (1.6.1)\n",
            "Requirement already satisfied: scipy>=1.7.3 in /usr/local/lib/python3.11/dist-packages (from tsfel) (1.13.1)\n",
            "Requirement already satisfied: setuptools>=47.1.1 in /usr/local/lib/python3.11/dist-packages (from tsfel) (75.1.0)\n",
            "Requirement already satisfied: statsmodels>=0.12.0 in /usr/local/lib/python3.11/dist-packages (from tsfel) (0.14.4)\n",
            "Collecting jedi>=0.16 (from ipython>=7.4.0->tsfel)\n",
            "  Downloading jedi-0.19.2-py2.py3-none-any.whl.metadata (22 kB)\n",
            "Requirement already satisfied: decorator in /usr/local/lib/python3.11/dist-packages (from ipython>=7.4.0->tsfel) (4.4.2)\n",
            "Requirement already satisfied: pickleshare in /usr/local/lib/python3.11/dist-packages (from ipython>=7.4.0->tsfel) (0.7.5)\n",
            "Requirement already satisfied: traitlets>=4.2 in /usr/local/lib/python3.11/dist-packages (from ipython>=7.4.0->tsfel) (5.7.1)\n",
            "Requirement already satisfied: prompt-toolkit!=3.0.0,!=3.0.1,<3.1.0,>=2.0.0 in /usr/local/lib/python3.11/dist-packages (from ipython>=7.4.0->tsfel) (3.0.50)\n",
            "Requirement already satisfied: pygments in /usr/local/lib/python3.11/dist-packages (from ipython>=7.4.0->tsfel) (2.18.0)\n",
            "Requirement already satisfied: backcall in /usr/local/lib/python3.11/dist-packages (from ipython>=7.4.0->tsfel) (0.2.0)\n",
            "Requirement already satisfied: matplotlib-inline in /usr/local/lib/python3.11/dist-packages (from ipython>=7.4.0->tsfel) (0.1.7)\n",
            "Requirement already satisfied: pexpect>4.3 in /usr/local/lib/python3.11/dist-packages (from ipython>=7.4.0->tsfel) (4.9.0)\n",
            "Requirement already satisfied: python-dateutil>=2.8.2 in /usr/local/lib/python3.11/dist-packages (from pandas>=1.5.3->tsfel) (2.8.2)\n",
            "Requirement already satisfied: pytz>=2020.1 in /usr/local/lib/python3.11/dist-packages (from pandas>=1.5.3->tsfel) (2025.1)\n",
            "Requirement already satisfied: tzdata>=2022.7 in /usr/local/lib/python3.11/dist-packages (from pandas>=1.5.3->tsfel) (2025.1)\n",
            "Requirement already satisfied: charset-normalizer<4,>=2 in /usr/local/lib/python3.11/dist-packages (from requests>=2.31.0->tsfel) (3.4.1)\n",
            "Requirement already satisfied: idna<4,>=2.5 in /usr/local/lib/python3.11/dist-packages (from requests>=2.31.0->tsfel) (3.10)\n",
            "Requirement already satisfied: urllib3<3,>=1.21.1 in /usr/local/lib/python3.11/dist-packages (from requests>=2.31.0->tsfel) (2.3.0)\n",
            "Requirement already satisfied: certifi>=2017.4.17 in /usr/local/lib/python3.11/dist-packages (from requests>=2.31.0->tsfel) (2025.1.31)\n",
            "Requirement already satisfied: joblib>=1.2.0 in /usr/local/lib/python3.11/dist-packages (from scikit-learn>=0.21.3->tsfel) (1.4.2)\n",
            "Requirement already satisfied: threadpoolctl>=3.1.0 in /usr/local/lib/python3.11/dist-packages (from scikit-learn>=0.21.3->tsfel) (3.5.0)\n",
            "Requirement already satisfied: patsy>=0.5.6 in /usr/local/lib/python3.11/dist-packages (from statsmodels>=0.12.0->tsfel) (1.0.1)\n",
            "Requirement already satisfied: packaging>=21.3 in /usr/local/lib/python3.11/dist-packages (from statsmodels>=0.12.0->tsfel) (24.2)\n",
            "Requirement already satisfied: parso<0.9.0,>=0.8.4 in /usr/local/lib/python3.11/dist-packages (from jedi>=0.16->ipython>=7.4.0->tsfel) (0.8.4)\n",
            "Requirement already satisfied: ptyprocess>=0.5 in /usr/local/lib/python3.11/dist-packages (from pexpect>4.3->ipython>=7.4.0->tsfel) (0.7.0)\n",
            "Requirement already satisfied: wcwidth in /usr/local/lib/python3.11/dist-packages (from prompt-toolkit!=3.0.0,!=3.0.1,<3.1.0,>=2.0.0->ipython>=7.4.0->tsfel) (0.2.13)\n",
            "Requirement already satisfied: six>=1.5 in /usr/local/lib/python3.11/dist-packages (from python-dateutil>=2.8.2->pandas>=1.5.3->tsfel) (1.17.0)\n",
            "Downloading tsfel-0.1.9-py3-none-any.whl (62 kB)\n",
            "\u001b[2K   \u001b[90m━━━━━━━━━━━━━━━━━━━━━━━━━━━━━━━━━━━━━━━━\u001b[0m \u001b[32m63.0/63.0 kB\u001b[0m \u001b[31m2.4 MB/s\u001b[0m eta \u001b[36m0:00:00\u001b[0m\n",
            "\u001b[?25hDownloading pywavelets-1.8.0-cp311-cp311-manylinux_2_17_x86_64.manylinux2014_x86_64.whl (4.5 MB)\n",
            "\u001b[2K   \u001b[90m━━━━━━━━━━━━━━━━━━━━━━━━━━━━━━━━━━━━━━━━\u001b[0m \u001b[32m4.5/4.5 MB\u001b[0m \u001b[31m48.0 MB/s\u001b[0m eta \u001b[36m0:00:00\u001b[0m\n",
            "\u001b[?25hDownloading jedi-0.19.2-py2.py3-none-any.whl (1.6 MB)\n",
            "\u001b[2K   \u001b[90m━━━━━━━━━━━━━━━━━━━━━━━━━━━━━━━━━━━━━━━━\u001b[0m \u001b[32m1.6/1.6 MB\u001b[0m \u001b[31m59.6 MB/s\u001b[0m eta \u001b[36m0:00:00\u001b[0m\n",
            "\u001b[?25hInstalling collected packages: PyWavelets, jedi, tsfel\n",
            "Successfully installed PyWavelets-1.8.0 jedi-0.19.2 tsfel-0.1.9\n"
          ]
        }
      ],
      "source": [
        "pip install tsfel"
      ]
    },
    {
      "cell_type": "code",
      "execution_count": 4,
      "metadata": {
        "id": "J0S8cAO-mrct"
      },
      "outputs": [],
      "source": [
        "from zipfile import ZipFile\n",
        "import pandas as pd\n",
        "import numpy as np\n",
        "from tensorflow.keras.utils import to_categorical\n",
        "import tsfel"
      ]
    },
    {
      "cell_type": "code",
      "execution_count": 5,
      "metadata": {
        "id": "u_I1nhnlo_Js"
      },
      "outputs": [],
      "source": [
        "zip_ref = ZipFile('/content/drive/MyDrive/Colab Notebooks/Deep Learning /Human Activity Recognition/human+activity+recognition+using+smartphones.zip', 'r')\n",
        "zip_ref.extractall()\n",
        "zip_ref.close()"
      ]
    },
    {
      "cell_type": "code",
      "execution_count": 6,
      "metadata": {
        "id": "qqmVTaLRpFJ8"
      },
      "outputs": [],
      "source": [
        "zip_ref = ZipFile('/content/UCI HAR Dataset.zip', 'r')\n",
        "zip_ref.extractall()\n",
        "zip_ref.close()"
      ]
    },
    {
      "cell_type": "code",
      "execution_count": 7,
      "metadata": {
        "id": "LodF1k02qO5o"
      },
      "outputs": [],
      "source": [
        "def load_raw_data(split):\n",
        "    base_path = 'UCI HAR Dataset'\n",
        "    components = ['body_acc', 'body_gyro', 'total_acc']\n",
        "    axes = ['x', 'y', 'z']\n",
        "    data = []\n",
        "    for comp in components:\n",
        "        for ax in axes:\n",
        "            file_path = f'/content/{base_path}/{split}/Inertial Signals/{comp}_{ax}_{split}.txt'\n",
        "            data_ax = np.loadtxt(file_path)\n",
        "            data.append(data_ax)\n",
        "    # Stack along the third axis (n_samples, 128, 9)\n",
        "    return np.stack(data, axis=-1)"
      ]
    },
    {
      "cell_type": "code",
      "execution_count": 8,
      "metadata": {
        "id": "Fk2xQ7aztTEh"
      },
      "outputs": [],
      "source": [
        "X_train_raw = load_raw_data('train')\n",
        "X_test_raw = load_raw_data('test')"
      ]
    },
    {
      "cell_type": "code",
      "execution_count": 9,
      "metadata": {
        "colab": {
          "base_uri": "https://localhost:8080/"
        },
        "id": "_02fSXtHuWgp",
        "outputId": "90ca3410-c9b5-4ce1-f4e3-6c8d6247eb40"
      },
      "outputs": [
        {
          "output_type": "stream",
          "name": "stdout",
          "text": [
            "(7352, 128, 9)\n",
            "(2947, 128, 9)\n"
          ]
        }
      ],
      "source": [
        "print(X_train_raw.shape)\n",
        "print(X_test_raw.shape)"
      ]
    },
    {
      "cell_type": "code",
      "execution_count": 10,
      "metadata": {
        "id": "EdlgPTvatfke"
      },
      "outputs": [],
      "source": [
        "y_train = np.loadtxt('/content/UCI HAR Dataset/train/y_train.txt') - 1\n",
        "y_test = np.loadtxt('/content/UCI HAR Dataset/test/y_test.txt') - 1\n",
        "y_train_dl = to_categorical(y_train)\n",
        "y_test_dl = to_categorical(y_test)"
      ]
    },
    {
      "cell_type": "code",
      "execution_count": 11,
      "metadata": {
        "colab": {
          "base_uri": "https://localhost:8080/"
        },
        "id": "GIsoskwgNICg",
        "outputId": "cdd4771d-42e6-4053-e3d5-69e86181cde3"
      },
      "outputs": [
        {
          "output_type": "execute_result",
          "data": {
            "text/plain": [
              "array([4., 4., 4., ..., 1., 1., 1.])"
            ]
          },
          "metadata": {},
          "execution_count": 11
        }
      ],
      "source": [
        "y_train"
      ]
    },
    {
      "cell_type": "code",
      "execution_count": 12,
      "metadata": {
        "id": "gzy5gzL65TGq"
      },
      "outputs": [],
      "source": [
        "# Convert to integer type\n",
        "y_train = y_train.astype(int)\n",
        "y_test = y_test.astype(int)"
      ]
    },
    {
      "cell_type": "code",
      "execution_count": 13,
      "metadata": {
        "id": "3N4_E4Jo7G__"
      },
      "outputs": [],
      "source": [
        "y_train_dl = y_train_dl.astype(int)\n",
        "y_test_dl = y_test_dl.astype(int)"
      ]
    },
    {
      "cell_type": "code",
      "execution_count": 14,
      "metadata": {
        "colab": {
          "base_uri": "https://localhost:8080/"
        },
        "id": "4cI8ovGC591M",
        "outputId": "7e017c93-3385-43ce-f1e1-3e9bbf9b00b9"
      },
      "outputs": [
        {
          "output_type": "execute_result",
          "data": {
            "text/plain": [
              "array([[0, 0, 0, 0, 1, 0],\n",
              "       [0, 0, 0, 0, 1, 0],\n",
              "       [0, 0, 0, 0, 1, 0],\n",
              "       ...,\n",
              "       [0, 1, 0, 0, 0, 0],\n",
              "       [0, 1, 0, 0, 0, 0],\n",
              "       [0, 1, 0, 0, 0, 0]])"
            ]
          },
          "metadata": {},
          "execution_count": 14
        }
      ],
      "source": [
        "y_test_dl"
      ]
    },
    {
      "cell_type": "code",
      "execution_count": 15,
      "metadata": {
        "colab": {
          "base_uri": "https://localhost:8080/"
        },
        "id": "RDID8t2h3iDh",
        "outputId": "c6c97c90-9b3d-4f76-d96e-25d048614030"
      },
      "outputs": [
        {
          "output_type": "execute_result",
          "data": {
            "text/plain": [
              "array([4, 4, 4, ..., 1, 1, 1])"
            ]
          },
          "metadata": {},
          "execution_count": 15
        }
      ],
      "source": [
        "y_train"
      ]
    },
    {
      "cell_type": "code",
      "execution_count": 16,
      "metadata": {
        "id": "8Q027uXJ3fWV"
      },
      "outputs": [],
      "source": [
        "# 0 - WALKING\n",
        "# 1 - WALKING_UPSTAIRS\n",
        "# 2 - WALKING_DOWNSTAIRS\n",
        "# 3 - SITTING\n",
        "# 4 - STANDING\n",
        "# 5 - LAYING"
      ]
    },
    {
      "cell_type": "code",
      "execution_count": 17,
      "metadata": {
        "id": "R48ydM6D4pBK"
      },
      "outputs": [],
      "source": [
        "import tensorflow as tf\n",
        "from tensorflow.keras.models import Sequential\n",
        "from tensorflow.keras.layers import LSTM, Dense, Dropout, BatchNormalization\n",
        "from tensorflow.keras.regularizers import l2\n",
        "from keras.regularizers import L1L2"
      ]
    },
    {
      "cell_type": "code",
      "execution_count": null,
      "metadata": {
        "id": "ktcvTzxa44s5"
      },
      "outputs": [],
      "source": [
        "def _count_classes(y):\n",
        "    return len(set(y))"
      ]
    },
    {
      "cell_type": "code",
      "execution_count": null,
      "metadata": {
        "colab": {
          "base_uri": "https://localhost:8080/"
        },
        "id": "sJppTX-b4wkm",
        "outputId": "baed832e-f289-413e-f5e4-c2512749d4b1"
      },
      "outputs": [
        {
          "name": "stdout",
          "output_type": "stream",
          "text": [
            "128\n",
            "9\n",
            "7352\n",
            "6\n"
          ]
        }
      ],
      "source": [
        "timesteps = len(X_train_raw[0])\n",
        "input_dim = len(X_train_raw[0][0])\n",
        "n_classes = _count_classes(y_train)\n",
        "\n",
        "print(timesteps)\n",
        "print(input_dim)\n",
        "print(len(X_train_raw))\n",
        "print(n_classes)"
      ]
    },
    {
      "cell_type": "code",
      "execution_count": null,
      "metadata": {
        "id": "6zPHQBdv5hWk"
      },
      "outputs": [],
      "source": [
        "# Initializing parameters\n",
        "n_epochs = 15\n",
        "n_batch = 16\n",
        "n_classes = _count_classes(y_train)\n",
        "\n",
        "# Bias regularizer value - we will use elasticnet\n",
        "reg = L1L2(0.01, 0.01)"
      ]
    },
    {
      "cell_type": "code",
      "execution_count": null,
      "metadata": {
        "id": "_wd4cumI6NTA"
      },
      "outputs": [],
      "source": [
        "from sklearn.model_selection import train_test_split\n",
        "X_train, X_val, Y_train, Y_val = train_test_split(X_train_raw, y_train_dl, test_size=0.2, random_state=42)"
      ]
    },
    {
      "cell_type": "code",
      "execution_count": null,
      "metadata": {
        "colab": {
          "base_uri": "https://localhost:8080/"
        },
        "id": "6MT37w9m6Vbs",
        "outputId": "ad1d8fa4-e060-4724-d513-1edd95c636d9"
      },
      "outputs": [
        {
          "data": {
            "text/plain": [
              "(5881, 128, 9)"
            ]
          },
          "execution_count": 47,
          "metadata": {},
          "output_type": "execute_result"
        }
      ],
      "source": [
        "X_train.shape"
      ]
    },
    {
      "cell_type": "code",
      "execution_count": null,
      "metadata": {
        "colab": {
          "base_uri": "https://localhost:8080/"
        },
        "id": "gOni8kOs5XJT",
        "outputId": "c8d6e51c-ce9e-455b-fdea-32d499409815"
      },
      "outputs": [
        {
          "data": {
            "text/plain": [
              "(1471, 128, 9)"
            ]
          },
          "execution_count": 48,
          "metadata": {},
          "output_type": "execute_result"
        }
      ],
      "source": [
        "X_val.shape"
      ]
    },
    {
      "cell_type": "code",
      "execution_count": null,
      "metadata": {
        "colab": {
          "base_uri": "https://localhost:8080/",
          "height": 424
        },
        "id": "bcVu8RiZ3zSr",
        "outputId": "85f898e5-98bf-43de-c9cc-d9027445577d"
      },
      "outputs": [
        {
          "name": "stdout",
          "output_type": "stream",
          "text": [
            "Model Summary: \n"
          ]
        },
        {
          "name": "stderr",
          "output_type": "stream",
          "text": [
            "/usr/local/lib/python3.11/dist-packages/keras/src/layers/rnn/rnn.py:200: UserWarning: Do not pass an `input_shape`/`input_dim` argument to a layer. When using Sequential models, prefer using an `Input(shape)` object as the first layer in the model instead.\n",
            "  super().__init__(**kwargs)\n"
          ]
        },
        {
          "data": {
            "text/html": [
              "<pre style=\"white-space:pre;overflow-x:auto;line-height:normal;font-family:Menlo,'DejaVu Sans Mono',consolas,'Courier New',monospace\"><span style=\"font-weight: bold\">Model: \"sequential_1\"</span>\n",
              "</pre>\n"
            ],
            "text/plain": [
              "\u001b[1mModel: \"sequential_1\"\u001b[0m\n"
            ]
          },
          "metadata": {},
          "output_type": "display_data"
        },
        {
          "data": {
            "text/html": [
              "<pre style=\"white-space:pre;overflow-x:auto;line-height:normal;font-family:Menlo,'DejaVu Sans Mono',consolas,'Courier New',monospace\">┏━━━━━━━━━━━━━━━━━━━━━━━━━━━━━━━━━━━━━━┳━━━━━━━━━━━━━━━━━━━━━━━━━━━━━┳━━━━━━━━━━━━━━━━━┓\n",
              "┃<span style=\"font-weight: bold\"> Layer (type)                         </span>┃<span style=\"font-weight: bold\"> Output Shape                </span>┃<span style=\"font-weight: bold\">         Param # </span>┃\n",
              "┡━━━━━━━━━━━━━━━━━━━━━━━━━━━━━━━━━━━━━━╇━━━━━━━━━━━━━━━━━━━━━━━━━━━━━╇━━━━━━━━━━━━━━━━━┩\n",
              "│ lstm_2 (<span style=\"color: #0087ff; text-decoration-color: #0087ff\">LSTM</span>)                        │ (<span style=\"color: #00d7ff; text-decoration-color: #00d7ff\">None</span>, <span style=\"color: #00af00; text-decoration-color: #00af00\">128</span>, <span style=\"color: #00af00; text-decoration-color: #00af00\">64</span>)             │          <span style=\"color: #00af00; text-decoration-color: #00af00\">18,944</span> │\n",
              "├──────────────────────────────────────┼─────────────────────────────┼─────────────────┤\n",
              "│ batch_normalization_1                │ (<span style=\"color: #00d7ff; text-decoration-color: #00d7ff\">None</span>, <span style=\"color: #00af00; text-decoration-color: #00af00\">128</span>, <span style=\"color: #00af00; text-decoration-color: #00af00\">64</span>)             │             <span style=\"color: #00af00; text-decoration-color: #00af00\">256</span> │\n",
              "│ (<span style=\"color: #0087ff; text-decoration-color: #0087ff\">BatchNormalization</span>)                 │                             │                 │\n",
              "├──────────────────────────────────────┼─────────────────────────────┼─────────────────┤\n",
              "│ dropout_2 (<span style=\"color: #0087ff; text-decoration-color: #0087ff\">Dropout</span>)                  │ (<span style=\"color: #00d7ff; text-decoration-color: #00d7ff\">None</span>, <span style=\"color: #00af00; text-decoration-color: #00af00\">128</span>, <span style=\"color: #00af00; text-decoration-color: #00af00\">64</span>)             │               <span style=\"color: #00af00; text-decoration-color: #00af00\">0</span> │\n",
              "├──────────────────────────────────────┼─────────────────────────────┼─────────────────┤\n",
              "│ lstm_3 (<span style=\"color: #0087ff; text-decoration-color: #0087ff\">LSTM</span>)                        │ (<span style=\"color: #00d7ff; text-decoration-color: #00d7ff\">None</span>, <span style=\"color: #00af00; text-decoration-color: #00af00\">48</span>)                  │          <span style=\"color: #00af00; text-decoration-color: #00af00\">21,696</span> │\n",
              "├──────────────────────────────────────┼─────────────────────────────┼─────────────────┤\n",
              "│ dropout_3 (<span style=\"color: #0087ff; text-decoration-color: #0087ff\">Dropout</span>)                  │ (<span style=\"color: #00d7ff; text-decoration-color: #00d7ff\">None</span>, <span style=\"color: #00af00; text-decoration-color: #00af00\">48</span>)                  │               <span style=\"color: #00af00; text-decoration-color: #00af00\">0</span> │\n",
              "├──────────────────────────────────────┼─────────────────────────────┼─────────────────┤\n",
              "│ dense_1 (<span style=\"color: #0087ff; text-decoration-color: #0087ff\">Dense</span>)                      │ (<span style=\"color: #00d7ff; text-decoration-color: #00d7ff\">None</span>, <span style=\"color: #00af00; text-decoration-color: #00af00\">6</span>)                   │             <span style=\"color: #00af00; text-decoration-color: #00af00\">294</span> │\n",
              "└──────────────────────────────────────┴─────────────────────────────┴─────────────────┘\n",
              "</pre>\n"
            ],
            "text/plain": [
              "┏━━━━━━━━━━━━━━━━━━━━━━━━━━━━━━━━━━━━━━┳━━━━━━━━━━━━━━━━━━━━━━━━━━━━━┳━━━━━━━━━━━━━━━━━┓\n",
              "┃\u001b[1m \u001b[0m\u001b[1mLayer (type)                        \u001b[0m\u001b[1m \u001b[0m┃\u001b[1m \u001b[0m\u001b[1mOutput Shape               \u001b[0m\u001b[1m \u001b[0m┃\u001b[1m \u001b[0m\u001b[1m        Param #\u001b[0m\u001b[1m \u001b[0m┃\n",
              "┡━━━━━━━━━━━━━━━━━━━━━━━━━━━━━━━━━━━━━━╇━━━━━━━━━━━━━━━━━━━━━━━━━━━━━╇━━━━━━━━━━━━━━━━━┩\n",
              "│ lstm_2 (\u001b[38;5;33mLSTM\u001b[0m)                        │ (\u001b[38;5;45mNone\u001b[0m, \u001b[38;5;34m128\u001b[0m, \u001b[38;5;34m64\u001b[0m)             │          \u001b[38;5;34m18,944\u001b[0m │\n",
              "├──────────────────────────────────────┼─────────────────────────────┼─────────────────┤\n",
              "│ batch_normalization_1                │ (\u001b[38;5;45mNone\u001b[0m, \u001b[38;5;34m128\u001b[0m, \u001b[38;5;34m64\u001b[0m)             │             \u001b[38;5;34m256\u001b[0m │\n",
              "│ (\u001b[38;5;33mBatchNormalization\u001b[0m)                 │                             │                 │\n",
              "├──────────────────────────────────────┼─────────────────────────────┼─────────────────┤\n",
              "│ dropout_2 (\u001b[38;5;33mDropout\u001b[0m)                  │ (\u001b[38;5;45mNone\u001b[0m, \u001b[38;5;34m128\u001b[0m, \u001b[38;5;34m64\u001b[0m)             │               \u001b[38;5;34m0\u001b[0m │\n",
              "├──────────────────────────────────────┼─────────────────────────────┼─────────────────┤\n",
              "│ lstm_3 (\u001b[38;5;33mLSTM\u001b[0m)                        │ (\u001b[38;5;45mNone\u001b[0m, \u001b[38;5;34m48\u001b[0m)                  │          \u001b[38;5;34m21,696\u001b[0m │\n",
              "├──────────────────────────────────────┼─────────────────────────────┼─────────────────┤\n",
              "│ dropout_3 (\u001b[38;5;33mDropout\u001b[0m)                  │ (\u001b[38;5;45mNone\u001b[0m, \u001b[38;5;34m48\u001b[0m)                  │               \u001b[38;5;34m0\u001b[0m │\n",
              "├──────────────────────────────────────┼─────────────────────────────┼─────────────────┤\n",
              "│ dense_1 (\u001b[38;5;33mDense\u001b[0m)                      │ (\u001b[38;5;45mNone\u001b[0m, \u001b[38;5;34m6\u001b[0m)                   │             \u001b[38;5;34m294\u001b[0m │\n",
              "└──────────────────────────────────────┴─────────────────────────────┴─────────────────┘\n"
            ]
          },
          "metadata": {},
          "output_type": "display_data"
        },
        {
          "data": {
            "text/html": [
              "<pre style=\"white-space:pre;overflow-x:auto;line-height:normal;font-family:Menlo,'DejaVu Sans Mono',consolas,'Courier New',monospace\"><span style=\"font-weight: bold\"> Total params: </span><span style=\"color: #00af00; text-decoration-color: #00af00\">41,190</span> (160.90 KB)\n",
              "</pre>\n"
            ],
            "text/plain": [
              "\u001b[1m Total params: \u001b[0m\u001b[38;5;34m41,190\u001b[0m (160.90 KB)\n"
            ]
          },
          "metadata": {},
          "output_type": "display_data"
        },
        {
          "data": {
            "text/html": [
              "<pre style=\"white-space:pre;overflow-x:auto;line-height:normal;font-family:Menlo,'DejaVu Sans Mono',consolas,'Courier New',monospace\"><span style=\"font-weight: bold\"> Trainable params: </span><span style=\"color: #00af00; text-decoration-color: #00af00\">41,062</span> (160.40 KB)\n",
              "</pre>\n"
            ],
            "text/plain": [
              "\u001b[1m Trainable params: \u001b[0m\u001b[38;5;34m41,062\u001b[0m (160.40 KB)\n"
            ]
          },
          "metadata": {},
          "output_type": "display_data"
        },
        {
          "data": {
            "text/html": [
              "<pre style=\"white-space:pre;overflow-x:auto;line-height:normal;font-family:Menlo,'DejaVu Sans Mono',consolas,'Courier New',monospace\"><span style=\"font-weight: bold\"> Non-trainable params: </span><span style=\"color: #00af00; text-decoration-color: #00af00\">128</span> (512.00 B)\n",
              "</pre>\n"
            ],
            "text/plain": [
              "\u001b[1m Non-trainable params: \u001b[0m\u001b[38;5;34m128\u001b[0m (512.00 B)\n"
            ]
          },
          "metadata": {},
          "output_type": "display_data"
        }
      ],
      "source": [
        "# Model execution\n",
        "model = Sequential()\n",
        "model.add(LSTM(64, input_shape=(timesteps, input_dim), return_sequences=True, bias_regularizer=reg))\n",
        "model.add(BatchNormalization())\n",
        "model.add(Dropout(0.50))\n",
        "model.add(LSTM(48))\n",
        "model.add(Dropout(0.50))\n",
        "model.add(Dense(n_classes, activation='sigmoid'))\n",
        "print(\"Model Summary: \")\n",
        "model.summary()"
      ]
    },
    {
      "cell_type": "code",
      "execution_count": null,
      "metadata": {
        "id": "gSyBEIeA5-y_"
      },
      "outputs": [],
      "source": [
        "model.compile(loss='categorical_crossentropy', optimizer='adam', metrics=['accuracy'])"
      ]
    },
    {
      "cell_type": "code",
      "execution_count": null,
      "metadata": {
        "colab": {
          "base_uri": "https://localhost:8080/"
        },
        "id": "xyhYt_TP6Fzg",
        "outputId": "e3c076e9-58dd-4aa2-813c-8f2934b7d6cc"
      },
      "outputs": [
        {
          "name": "stdout",
          "output_type": "stream",
          "text": [
            "Epoch 1/20\n",
            "\u001b[1m368/368\u001b[0m \u001b[32m━━━━━━━━━━━━━━━━━━━━\u001b[0m\u001b[37m\u001b[0m \u001b[1m52s\u001b[0m 126ms/step - accuracy: 0.5953 - loss: 2.1846 - val_accuracy: 0.7335 - val_loss: 1.4242\n",
            "Epoch 2/20\n",
            "\u001b[1m368/368\u001b[0m \u001b[32m━━━━━━━━━━━━━━━━━━━━\u001b[0m\u001b[37m\u001b[0m \u001b[1m79s\u001b[0m 119ms/step - accuracy: 0.8910 - loss: 0.9726 - val_accuracy: 0.9334 - val_loss: 0.5674\n",
            "Epoch 3/20\n",
            "\u001b[1m368/368\u001b[0m \u001b[32m━━━━━━━━━━━━━━━━━━━━\u001b[0m\u001b[37m\u001b[0m \u001b[1m85s\u001b[0m 129ms/step - accuracy: 0.9276 - loss: 0.5503 - val_accuracy: 0.9007 - val_loss: 0.3998\n",
            "Epoch 4/20\n",
            "\u001b[1m368/368\u001b[0m \u001b[32m━━━━━━━━━━━━━━━━━━━━\u001b[0m\u001b[37m\u001b[0m \u001b[1m82s\u001b[0m 128ms/step - accuracy: 0.9244 - loss: 0.3226 - val_accuracy: 0.9259 - val_loss: 0.1811\n",
            "Epoch 5/20\n",
            "\u001b[1m368/368\u001b[0m \u001b[32m━━━━━━━━━━━━━━━━━━━━\u001b[0m\u001b[37m\u001b[0m \u001b[1m82s\u001b[0m 128ms/step - accuracy: 0.9371 - loss: 0.1943 - val_accuracy: 0.7220 - val_loss: 0.9073\n",
            "Epoch 6/20\n",
            "\u001b[1m368/368\u001b[0m \u001b[32m━━━━━━━━━━━━━━━━━━━━\u001b[0m\u001b[37m\u001b[0m \u001b[1m80s\u001b[0m 124ms/step - accuracy: 0.8536 - loss: 0.4038 - val_accuracy: 0.9572 - val_loss: 0.1311\n",
            "Epoch 7/20\n",
            "\u001b[1m368/368\u001b[0m \u001b[32m━━━━━━━━━━━━━━━━━━━━\u001b[0m\u001b[37m\u001b[0m \u001b[1m85s\u001b[0m 133ms/step - accuracy: 0.9416 - loss: 0.1648 - val_accuracy: 0.9381 - val_loss: 0.1308\n",
            "Epoch 8/20\n",
            "\u001b[1m368/368\u001b[0m \u001b[32m━━━━━━━━━━━━━━━━━━━━\u001b[0m\u001b[37m\u001b[0m \u001b[1m46s\u001b[0m 126ms/step - accuracy: 0.9204 - loss: 0.2504 - val_accuracy: 0.9245 - val_loss: 0.1879\n",
            "Epoch 9/20\n",
            "\u001b[1m368/368\u001b[0m \u001b[32m━━━━━━━━━━━━━━━━━━━━\u001b[0m\u001b[37m\u001b[0m \u001b[1m50s\u001b[0m 137ms/step - accuracy: 0.9279 - loss: 0.1938 - val_accuracy: 0.9409 - val_loss: 0.1485\n",
            "Epoch 10/20\n",
            "\u001b[1m368/368\u001b[0m \u001b[32m━━━━━━━━━━━━━━━━━━━━\u001b[0m\u001b[37m\u001b[0m \u001b[1m78s\u001b[0m 125ms/step - accuracy: 0.9443 - loss: 0.1458 - val_accuracy: 0.9572 - val_loss: 0.1093\n",
            "Epoch 11/20\n",
            "\u001b[1m368/368\u001b[0m \u001b[32m━━━━━━━━━━━━━━━━━━━━\u001b[0m\u001b[37m\u001b[0m \u001b[1m82s\u001b[0m 126ms/step - accuracy: 0.9367 - loss: 0.1619 - val_accuracy: 0.9579 - val_loss: 0.1094\n",
            "Epoch 12/20\n",
            "\u001b[1m368/368\u001b[0m \u001b[32m━━━━━━━━━━━━━━━━━━━━\u001b[0m\u001b[37m\u001b[0m \u001b[1m82s\u001b[0m 125ms/step - accuracy: 0.9411 - loss: 0.1458 - val_accuracy: 0.9606 - val_loss: 0.1096\n",
            "Epoch 13/20\n",
            "\u001b[1m368/368\u001b[0m \u001b[32m━━━━━━━━━━━━━━━━━━━━\u001b[0m\u001b[37m\u001b[0m \u001b[1m46s\u001b[0m 124ms/step - accuracy: 0.9508 - loss: 0.1281 - val_accuracy: 0.9545 - val_loss: 0.1068\n",
            "Epoch 14/20\n",
            "\u001b[1m368/368\u001b[0m \u001b[32m━━━━━━━━━━━━━━━━━━━━\u001b[0m\u001b[37m\u001b[0m \u001b[1m46s\u001b[0m 125ms/step - accuracy: 0.9423 - loss: 0.1448 - val_accuracy: 0.9361 - val_loss: 0.1352\n",
            "Epoch 15/20\n",
            "\u001b[1m368/368\u001b[0m \u001b[32m━━━━━━━━━━━━━━━━━━━━\u001b[0m\u001b[37m\u001b[0m \u001b[1m82s\u001b[0m 125ms/step - accuracy: 0.9440 - loss: 0.1541 - val_accuracy: 0.9585 - val_loss: 0.1150\n",
            "Epoch 16/20\n",
            "\u001b[1m368/368\u001b[0m \u001b[32m━━━━━━━━━━━━━━━━━━━━\u001b[0m\u001b[37m\u001b[0m \u001b[1m49s\u001b[0m 133ms/step - accuracy: 0.9418 - loss: 0.1576 - val_accuracy: 0.9245 - val_loss: 0.1641\n",
            "Epoch 17/20\n",
            "\u001b[1m368/368\u001b[0m \u001b[32m━━━━━━━━━━━━━━━━━━━━\u001b[0m\u001b[37m\u001b[0m \u001b[1m82s\u001b[0m 133ms/step - accuracy: 0.9378 - loss: 0.1646 - val_accuracy: 0.9375 - val_loss: 0.1382\n",
            "Epoch 18/20\n",
            "\u001b[1m368/368\u001b[0m \u001b[32m━━━━━━━━━━━━━━━━━━━━\u001b[0m\u001b[37m\u001b[0m \u001b[1m82s\u001b[0m 134ms/step - accuracy: 0.9317 - loss: 0.1510 - val_accuracy: 0.9511 - val_loss: 0.1223\n",
            "Epoch 19/20\n",
            "\u001b[1m368/368\u001b[0m \u001b[32m━━━━━━━━━━━━━━━━━━━━\u001b[0m\u001b[37m\u001b[0m \u001b[1m46s\u001b[0m 126ms/step - accuracy: 0.9435 - loss: 0.1565 - val_accuracy: 0.9334 - val_loss: 0.1899\n",
            "Epoch 20/20\n",
            "\u001b[1m368/368\u001b[0m \u001b[32m━━━━━━━━━━━━━━━━━━━━\u001b[0m\u001b[37m\u001b[0m \u001b[1m47s\u001b[0m 127ms/step - accuracy: 0.9429 - loss: 0.1433 - val_accuracy: 0.9592 - val_loss: 0.1047\n"
          ]
        },
        {
          "data": {
            "text/plain": [
              "<keras.src.callbacks.history.History at 0x7f1ea02c1390>"
            ]
          },
          "execution_count": 51,
          "metadata": {},
          "output_type": "execute_result"
        }
      ],
      "source": [
        "model.fit(X_train, Y_train, batch_size=n_batch, validation_data=(X_val, Y_val), epochs=n_epochs)"
      ]
    },
    {
      "cell_type": "code",
      "execution_count": null,
      "metadata": {
        "colab": {
          "base_uri": "https://localhost:8080/"
        },
        "id": "xioJasPy8aVC",
        "outputId": "74fae23e-4158-450b-f3c7-f6b39effbbaa"
      },
      "outputs": [
        {
          "name": "stdout",
          "output_type": "stream",
          "text": [
            "\u001b[1m93/93\u001b[0m \u001b[32m━━━━━━━━━━━━━━━━━━━━\u001b[0m\u001b[37m\u001b[0m \u001b[1m3s\u001b[0m 36ms/step - accuracy: 0.8949 - loss: 0.2820\n",
            "[0.20048795640468597, 0.9304377436637878]\n"
          ]
        }
      ],
      "source": [
        "score = model.evaluate(X_test_raw, y_test_dl)\n",
        "print(score)"
      ]
    },
    {
      "cell_type": "code",
      "execution_count": 18,
      "metadata": {
        "id": "NeDq2AdjuB5w"
      },
      "outputs": [],
      "source": [
        "def create_tsfel_config():\n",
        "    cfg = tsfel.get_features_by_domain()\n",
        "    return cfg"
      ]
    },
    {
      "cell_type": "code",
      "execution_count": 19,
      "metadata": {
        "id": "J6K9GORKwiXT"
      },
      "outputs": [],
      "source": [
        "def extract_sample_features(sample, cfg):\n",
        "    # Convert sample to DataFrame with sensor columns\n",
        "    df = pd.DataFrame(sample, columns=[f'sensor_{i}' for i in range(9)])\n",
        "\n",
        "    # Extract features using parallel processing\n",
        "    features = tsfel.time_series_features_extractor(cfg,df,fs=100,n_jobs=-1,verbose=0) # n_jobs = -1 uses all cpu cores\n",
        "    return features.to_numpy().flatten()"
      ]
    },
    {
      "cell_type": "code",
      "execution_count": 20,
      "metadata": {
        "id": "XIcgbWmZi3u6"
      },
      "outputs": [],
      "source": [
        "from tqdm import tqdm"
      ]
    },
    {
      "cell_type": "code",
      "execution_count": 21,
      "metadata": {
        "id": "f_2FJiM0wk0_"
      },
      "outputs": [],
      "source": [
        "def extract_features_dataset(X_raw, cfg):\n",
        "    features = []\n",
        "    for sample in tqdm(X_raw, desc=\"Extracting features\"):\n",
        "        features.append(extract_sample_features(sample, cfg))\n",
        "    return np.array(features)"
      ]
    },
    {
      "cell_type": "code",
      "execution_count": 22,
      "metadata": {
        "id": "mNIZUQzJwpRJ"
      },
      "outputs": [],
      "source": [
        "cfg = create_tsfel_config()"
      ]
    },
    {
      "cell_type": "code",
      "execution_count": 23,
      "metadata": {
        "colab": {
          "base_uri": "https://localhost:8080/"
        },
        "id": "jCYFz9gJwqpj",
        "outputId": "82336c2f-3a42-4ef4-ba2b-db96a0677fc3"
      },
      "outputs": [
        {
          "output_type": "stream",
          "name": "stderr",
          "text": [
            "Extracting features: 100%|██████████| 7352/7352 [20:26<00:00,  5.99it/s]\n",
            "Extracting features: 100%|██████████| 2947/2947 [07:59<00:00,  6.14it/s]\n"
          ]
        }
      ],
      "source": [
        "X_train_tsfel = extract_features_dataset(X_train_raw, cfg)\n",
        "X_test_tsfel = extract_features_dataset(X_test_raw, cfg)"
      ]
    },
    {
      "cell_type": "code",
      "execution_count": 24,
      "metadata": {
        "colab": {
          "base_uri": "https://localhost:8080/"
        },
        "id": "cExYf7PNiJIs",
        "outputId": "0535f9f6-d217-430e-9606-23db0b8efa7c"
      },
      "outputs": [
        {
          "output_type": "stream",
          "name": "stdout",
          "text": [
            "(7352, 1404)\n",
            "(2947, 1404)\n"
          ]
        }
      ],
      "source": [
        "print(X_train_tsfel.shape)\n",
        "print(X_test_tsfel.shape)"
      ]
    },
    {
      "cell_type": "code",
      "execution_count": 25,
      "metadata": {
        "colab": {
          "base_uri": "https://localhost:8080/"
        },
        "id": "kllRh0By1CNz",
        "outputId": "dc289971-42af-4834-80b4-8108a4bba1a3"
      },
      "outputs": [
        {
          "output_type": "execute_result",
          "data": {
            "text/plain": [
              "array([[1.76596578e-03, 3.47553975e-03, 2.10000000e+01, ...,\n",
              "        7.99249912e-04, 4.87628659e-04, 0.00000000e+00],\n",
              "       [5.06139977e-04, 1.69669290e-03, 2.00000000e+00, ...,\n",
              "        6.47811902e-04, 3.95649117e-04, 0.00000000e+00],\n",
              "       [1.10614911e-03, 2.47318321e-03, 2.00000000e+00, ...,\n",
              "        5.42871337e-04, 3.86669001e-04, 0.00000000e+00],\n",
              "       ...,\n",
              "       [8.28560238e+00, 2.47970035e-01, 5.00000000e+00, ...,\n",
              "        7.96959024e-02, 3.94812820e-02, 6.00000000e+00],\n",
              "       [8.26689259e+00, 2.46659514e-01, 5.00000000e+00, ...,\n",
              "        8.26413752e-02, 3.76228103e-02, 8.00000000e+00],\n",
              "       [7.27404088e+00, 2.19256283e-01, 5.00000000e+00, ...,\n",
              "        5.83980217e-02, 2.69448984e-02, 5.00000000e+00]])"
            ]
          },
          "metadata": {},
          "execution_count": 25
        }
      ],
      "source": [
        "X_train_tsfel"
      ]
    },
    {
      "cell_type": "code",
      "execution_count": 26,
      "metadata": {
        "colab": {
          "base_uri": "https://localhost:8080/"
        },
        "id": "52isMKd_6Wup",
        "outputId": "61a0b41e-5a9d-46d9-b65f-b714f85165ea"
      },
      "outputs": [
        {
          "output_type": "execute_result",
          "data": {
            "text/plain": [
              "array([4, 4, 4, ..., 1, 1, 1])"
            ]
          },
          "metadata": {},
          "execution_count": 26
        }
      ],
      "source": [
        "y_train"
      ]
    },
    {
      "cell_type": "code",
      "execution_count": 27,
      "metadata": {
        "colab": {
          "base_uri": "https://localhost:8080/"
        },
        "id": "_jlkc2fd6ZCx",
        "outputId": "80ea7f68-f1e2-429f-f741-c2361e14f3c3"
      },
      "outputs": [
        {
          "output_type": "execute_result",
          "data": {
            "text/plain": [
              "array([4, 4, 4, ..., 1, 1, 1])"
            ]
          },
          "metadata": {},
          "execution_count": 27
        }
      ],
      "source": [
        "y_test"
      ]
    },
    {
      "cell_type": "code",
      "execution_count": 28,
      "metadata": {
        "id": "zT_0J5aw0v9J"
      },
      "outputs": [],
      "source": [
        "from sklearn.preprocessing import StandardScaler\n",
        "from sklearn.linear_model import LogisticRegression\n",
        "from sklearn.ensemble import RandomForestClassifier\n",
        "from sklearn.svm import SVC\n",
        "import sklearn.metrics as mt\n",
        "from sklearn.tree import DecisionTreeClassifier\n",
        "from sklearn.ensemble import GradientBoostingClassifier\n",
        "from sklearn.neighbors import KNeighborsClassifier\n",
        "from xgboost import XGBClassifier"
      ]
    },
    {
      "cell_type": "code",
      "execution_count": 29,
      "metadata": {
        "colab": {
          "base_uri": "https://localhost:8080/"
        },
        "id": "0RVDqZw91PDm",
        "outputId": "e5d7c82d-b3c9-4dbf-d785-059cc83e3158"
      },
      "outputs": [
        {
          "output_type": "stream",
          "name": "stdout",
          "text": [
            "(2947, 1404)\n",
            "(2947,)\n",
            "(7352, 1404)\n",
            "(7352,)\n"
          ]
        }
      ],
      "source": [
        "print(X_test_tsfel.shape)\n",
        "print(y_test.shape)\n",
        "print(X_train_tsfel.shape)\n",
        "print(y_train.shape)"
      ]
    },
    {
      "cell_type": "code",
      "execution_count": 30,
      "metadata": {
        "id": "c1nJlrMHv8sF"
      },
      "outputs": [],
      "source": [
        "scaler = StandardScaler()\n",
        "X_train_tsfel = scaler.fit_transform(X_train_tsfel)\n",
        "X_test_tsfel = scaler.transform(X_test_tsfel)"
      ]
    },
    {
      "cell_type": "code",
      "execution_count": 31,
      "metadata": {
        "id": "xX7nmYDAzit5"
      },
      "outputs": [],
      "source": [
        "models = [LogisticRegression(), DecisionTreeClassifier(), RandomForestClassifier(), GradientBoostingClassifier(), KNeighborsClassifier(), XGBClassifier(), SVC()]"
      ]
    },
    {
      "cell_type": "code",
      "execution_count": 32,
      "metadata": {
        "colab": {
          "base_uri": "https://localhost:8080/"
        },
        "id": "CUKq4dh00BYQ",
        "outputId": "357f636e-3eb9-420f-bec8-e10992594874"
      },
      "outputs": [
        {
          "output_type": "stream",
          "name": "stdout",
          "text": [
            "LogisticRegression:\n",
            "Accuracy: 0.9524940617577197\n",
            "Precision: 0.953316446393949\n",
            "Recall: 0.9524940617577197\n",
            "F1-score: 0.9521763667925243\n",
            "Score: 0.9524940617577197\n",
            "\n",
            "Best model updated: LogisticRegression()\n",
            "DecisionTreeClassifier:\n",
            "Accuracy: 0.8663047166610112\n",
            "Precision: 0.8655198907452057\n",
            "Recall: 0.8663047166610112\n",
            "F1-score: 0.8650083295276423\n",
            "Score: 0.8663047166610112\n",
            "\n",
            "Best model updated: LogisticRegression()\n",
            "RandomForestClassifier:\n",
            "Accuracy: 0.9311163895486936\n",
            "Precision: 0.9320000980929078\n",
            "Recall: 0.9311163895486936\n",
            "F1-score: 0.9306259697451555\n",
            "Score: 0.9311163895486936\n",
            "\n",
            "Best model updated: LogisticRegression()\n",
            "GradientBoostingClassifier:\n",
            "Accuracy: 0.9429928741092637\n",
            "Precision: 0.943385397134996\n",
            "Recall: 0.9429928741092637\n",
            "F1-score: 0.9427885432843548\n",
            "Score: 0.9429928741092637\n",
            "\n",
            "Best model updated: LogisticRegression()\n",
            "KNeighborsClassifier:\n",
            "Accuracy: 0.8914149983033594\n",
            "Precision: 0.9006865931637169\n",
            "Recall: 0.8914149983033594\n",
            "F1-score: 0.8893294941027176\n",
            "Score: 0.8914149983033594\n",
            "\n",
            "Best model updated: LogisticRegression()\n",
            "XGBClassifier:\n",
            "Accuracy: 0.9487614523243977\n",
            "Precision: 0.9493230178504125\n",
            "Recall: 0.9487614523243977\n",
            "F1-score: 0.9485483651504671\n",
            "Score: 0.9487614523243977\n",
            "\n",
            "Best model updated: LogisticRegression()\n",
            "SVC:\n",
            "Accuracy: 0.9531727180183237\n",
            "Precision: 0.9534837481337214\n",
            "Recall: 0.9531727180183237\n",
            "F1-score: 0.9531241485112677\n",
            "Score: 0.9531727180183237\n",
            "\n",
            "Best model updated: SVC()\n"
          ]
        }
      ],
      "source": [
        "best_score = 0\n",
        "best_model = None\n",
        "for model in models:\n",
        "    model.fit(X_train_tsfel, y_train)\n",
        "    y_pred = model.predict(X_test_tsfel)\n",
        "    score = model.score(X_test_tsfel, y_test)\n",
        "    print(f\"{model.__class__.__name__}:\")\n",
        "    print(\"Accuracy:\", mt.accuracy_score(y_test, y_pred))\n",
        "    print(\"Precision:\", mt.precision_score(y_test, y_pred, average='weighted'))\n",
        "    print(\"Recall:\", mt.recall_score(y_test, y_pred, average='weighted'))\n",
        "    print(\"F1-score:\", mt.f1_score(y_test, y_pred, average='weighted'))\n",
        "    print(\"Score:\", score)\n",
        "    print()\n",
        "    if score > best_score:\n",
        "        best_score = score\n",
        "        best_model = model\n",
        "    print(\"Best model updated:\", best_model)"
      ]
    },
    {
      "cell_type": "code",
      "execution_count": 33,
      "metadata": {
        "id": "I7I-FWtQ0afy",
        "colab": {
          "base_uri": "https://localhost:8080/"
        },
        "outputId": "e9f8de4a-3e4a-4579-dca5-691774a5f8dd"
      },
      "outputs": [
        {
          "output_type": "stream",
          "name": "stdout",
          "text": [
            "Best Model: SVC , Best Score: 0.9531727180183237\n"
          ]
        }
      ],
      "source": [
        "print(\"Best Model:\", best_model.__class__.__name__, \", Best Score:\", best_score)"
      ]
    },
    {
      "cell_type": "markdown",
      "metadata": {
        "id": "U0JIM2wc4yyi"
      },
      "source": [
        "# Checking The Metrics for Author's Data"
      ]
    },
    {
      "cell_type": "code",
      "execution_count": 34,
      "metadata": {
        "id": "k5e4AJnC03pV"
      },
      "outputs": [],
      "source": [
        "X_train = np.loadtxt('/content/UCI HAR Dataset/train/X_train.txt')\n",
        "X_test = np.loadtxt('/content/UCI HAR Dataset/test/X_test.txt')"
      ]
    },
    {
      "cell_type": "code",
      "execution_count": 35,
      "metadata": {
        "id": "aw2O0DW75fo0",
        "colab": {
          "base_uri": "https://localhost:8080/"
        },
        "outputId": "fb2d4826-7fdb-488b-efaf-1ed2332eeed2"
      },
      "outputs": [
        {
          "output_type": "execute_result",
          "data": {
            "text/plain": [
              "(7352, 561)"
            ]
          },
          "metadata": {},
          "execution_count": 35
        }
      ],
      "source": [
        "X_train.shape"
      ]
    },
    {
      "cell_type": "code",
      "execution_count": 36,
      "metadata": {
        "id": "PQ0KUD-K5h5c",
        "colab": {
          "base_uri": "https://localhost:8080/"
        },
        "outputId": "f62b842f-e825-48e7-bf4f-963c032470ac"
      },
      "outputs": [
        {
          "output_type": "execute_result",
          "data": {
            "text/plain": [
              "(2947, 561)"
            ]
          },
          "metadata": {},
          "execution_count": 36
        }
      ],
      "source": [
        "X_test.shape"
      ]
    },
    {
      "cell_type": "code",
      "execution_count": 37,
      "metadata": {
        "id": "L03OrYLv5kgN",
        "colab": {
          "base_uri": "https://localhost:8080/"
        },
        "outputId": "640a9355-85c0-4165-d421-33ad6e67027f"
      },
      "outputs": [
        {
          "output_type": "stream",
          "name": "stderr",
          "text": [
            "/usr/local/lib/python3.11/dist-packages/sklearn/linear_model/_logistic.py:465: ConvergenceWarning: lbfgs failed to converge (status=1):\n",
            "STOP: TOTAL NO. of ITERATIONS REACHED LIMIT.\n",
            "\n",
            "Increase the number of iterations (max_iter) or scale the data as shown in:\n",
            "    https://scikit-learn.org/stable/modules/preprocessing.html\n",
            "Please also refer to the documentation for alternative solver options:\n",
            "    https://scikit-learn.org/stable/modules/linear_model.html#logistic-regression\n",
            "  n_iter_i = _check_optimize_result(\n"
          ]
        },
        {
          "output_type": "stream",
          "name": "stdout",
          "text": [
            "LogisticRegression:\n",
            "Accuracy: 0.9586019681031558\n",
            "Precision: 0.959839185281027\n",
            "Recall: 0.9586019681031558\n",
            "F1-score: 0.9584686641988832\n",
            "Score: 0.9586019681031558\n",
            "\n",
            "Best model updated: LogisticRegression()\n",
            "DecisionTreeClassifier:\n",
            "Accuracy: 0.8673227010519172\n",
            "Precision: 0.8689224740541259\n",
            "Recall: 0.8673227010519172\n",
            "F1-score: 0.8666527389653171\n",
            "Score: 0.8673227010519172\n",
            "\n",
            "Best model updated: LogisticRegression()\n",
            "RandomForestClassifier:\n",
            "Accuracy: 0.9331523583305056\n",
            "Precision: 0.9342852490558377\n",
            "Recall: 0.9331523583305056\n",
            "F1-score: 0.9329587625777302\n",
            "Score: 0.9331523583305056\n",
            "\n",
            "Best model updated: LogisticRegression()\n",
            "GradientBoostingClassifier:\n",
            "Accuracy: 0.9379029521547336\n",
            "Precision: 0.9387369814279826\n",
            "Recall: 0.9379029521547336\n",
            "F1-score: 0.9377400729077036\n",
            "Score: 0.9379029521547336\n",
            "\n",
            "Best model updated: LogisticRegression()\n",
            "KNeighborsClassifier:\n",
            "Accuracy: 0.9015948422124194\n",
            "Precision: 0.905930491749607\n",
            "Recall: 0.9015948422124194\n",
            "F1-score: 0.9006983259628749\n",
            "Score: 0.9015948422124194\n",
            "\n",
            "Best model updated: LogisticRegression()\n",
            "XGBClassifier:\n",
            "Accuracy: 0.9392602646759416\n",
            "Precision: 0.9402152398315111\n",
            "Recall: 0.9392602646759416\n",
            "F1-score: 0.9390676557966045\n",
            "Score: 0.9392602646759416\n",
            "\n",
            "Best model updated: LogisticRegression()\n",
            "SVC:\n",
            "Accuracy: 0.9504580929759077\n",
            "Precision: 0.9512859137052708\n",
            "Recall: 0.9504580929759077\n",
            "F1-score: 0.9503762257252759\n",
            "Score: 0.9504580929759077\n",
            "\n",
            "Best model updated: LogisticRegression()\n"
          ]
        }
      ],
      "source": [
        "best_score = 0\n",
        "best_model = None\n",
        "for model in models:\n",
        "    model.fit(X_train, y_train)\n",
        "    y_pred = model.predict(X_test)\n",
        "    score = model.score(X_test, y_test)\n",
        "    print(f\"{model.__class__.__name__}:\")\n",
        "    print(\"Accuracy:\", mt.accuracy_score(y_test, y_pred))\n",
        "    print(\"Precision:\", mt.precision_score(y_test, y_pred, average='weighted'))\n",
        "    print(\"Recall:\", mt.recall_score(y_test, y_pred, average='weighted'))\n",
        "    print(\"F1-score:\", mt.f1_score(y_test, y_pred, average='weighted'))\n",
        "    print(\"Score:\", score)\n",
        "    print()\n",
        "    if score > best_score:\n",
        "        best_score = score\n",
        "        best_model = model\n",
        "    print(\"Best model updated:\", best_model)"
      ]
    },
    {
      "cell_type": "code",
      "execution_count": 38,
      "metadata": {
        "id": "SzX9hgir53Bz",
        "colab": {
          "base_uri": "https://localhost:8080/"
        },
        "outputId": "cfffeb4e-13f1-4964-e53c-b035dad2b244"
      },
      "outputs": [
        {
          "output_type": "stream",
          "name": "stdout",
          "text": [
            "Best Model: LogisticRegression , Best Score: 0.9586019681031558\n"
          ]
        }
      ],
      "source": [
        "print(\"Best Model:\", best_model.__class__.__name__, \", Best Score:\", best_score)"
      ]
    },
    {
      "cell_type": "code",
      "execution_count": null,
      "metadata": {
        "id": "VBn_6xDJAaLe"
      },
      "outputs": [],
      "source": []
    }
  ],
  "metadata": {
    "colab": {
      "provenance": []
    },
    "kernelspec": {
      "display_name": "Python 3",
      "name": "python3"
    },
    "language_info": {
      "name": "python"
    }
  },
  "nbformat": 4,
  "nbformat_minor": 0
}